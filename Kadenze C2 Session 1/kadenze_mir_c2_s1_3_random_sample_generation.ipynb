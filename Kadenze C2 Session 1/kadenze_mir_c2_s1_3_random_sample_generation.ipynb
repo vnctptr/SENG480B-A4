{
 "cells": [
  {
   "cell_type": "markdown",
   "metadata": {},
   "source": [
    "## Random sample generation \n",
    "\n",
    "In this notebook we sketch how we can generate random samples from a discrte probability distribution \n",
    "using the cummulative distribution. If we have a probabilistic model even if it is significantly more complicated then we can generate random data samples using similar ideas. "
   ]
  },
  {
   "cell_type": "code",
   "execution_count": 1,
   "metadata": {},
   "outputs": [
    {
     "name": "stdout",
     "output_type": "stream",
     "text": [
      "[0.16666667 0.66666667 1.        ]\n"
     ]
    }
   ],
   "source": [
    "import numpy as np\n",
    "\n",
    "values = np.int64([1, 2, 3])\n",
    "probability_distribution = [1/6., 3/6., 2/6.]\n",
    "\n",
    "cummulative_distribution = np.cumsum(probability_distribution)\n",
    "print(cummulative_distribution)"
   ]
  },
  {
   "cell_type": "code",
   "execution_count": null,
   "metadata": {},
   "outputs": [],
   "source": [
    "samples = [] \n",
    "for n in np.arange(0,10): \n",
    "    # generate a random number uniformly distributed between 0.0 and 1.0 \n",
    "    r = np.random.uniform()\n",
    "    print(\"Random number %f\"% r)\n",
    "    if r < cummulative_distribution[0]: \n",
    "        samples.append(1)\n",
    "        print('Sample value: 1') \n",
    "    elif r < cummulative_distribution[1]: \n",
    "        print('Sample value 2')\n",
    "        samples.append(2)\n",
    "    else: \n",
    "        print('Sample value3')\n",
    "        samples.append(3)\n",
    "print(samples)"
   ]
  },
  {
   "cell_type": "code",
   "execution_count": null,
   "metadata": {},
   "outputs": [],
   "source": []
  },
  {
   "cell_type": "code",
   "execution_count": null,
   "metadata": {},
   "outputs": [],
   "source": []
  }
 ],
 "metadata": {
  "kernelspec": {
   "display_name": "Python 3",
   "language": "python",
   "name": "python3"
  },
  "language_info": {
   "codemirror_mode": {
    "name": "ipython",
    "version": 3
   },
   "file_extension": ".py",
   "mimetype": "text/x-python",
   "name": "python",
   "nbconvert_exporter": "python",
   "pygments_lexer": "ipython3",
   "version": "3.7.1"
  }
 },
 "nbformat": 4,
 "nbformat_minor": 2
}
