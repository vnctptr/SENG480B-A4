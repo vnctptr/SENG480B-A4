{
 "cells": [
  {
   "cell_type": "markdown",
   "metadata": {},
   "source": [
    "# Conditional Probabilities \n",
    "### George Tzanetakis, University of Victoria \n",
    "\n",
    "In this notebook we explore conditional probabilities "
   ]
  },
  {
   "cell_type": "markdown",
   "metadata": {
    "collapsed": true
   },
   "source": [
    "Define a helper random variable class based on the scipy discrete random variable functionality providing both numeric and symbolic RVs "
   ]
  },
  {
   "cell_type": "code",
   "execution_count": 2,
   "metadata": {
    "collapsed": true
   },
   "outputs": [],
   "source": [
    "%matplotlib inline \n",
    "import matplotlib.pyplot as plt\n",
    "from scipy import stats\n",
    "import numpy as np "
   ]
  },
  {
   "cell_type": "code",
   "execution_count": 3,
   "metadata": {
    "collapsed": true
   },
   "outputs": [],
   "source": [
    "class Random_Variable: \n",
    "    \n",
    "    def __init__(self, name, values, probability_distribution): \n",
    "        self.name = name \n",
    "        self.values = values \n",
    "        self.probability_distribution = probability_distribution \n",
    "        if all(type(item) is np.int64 for item in values): \n",
    "            self.type = 'numeric'\n",
    "            self.rv = stats.rv_discrete(name = name, values = (values, probability_distribution))\n",
    "        elif all(type(item) is str for item in values): \n",
    "            self.type = 'symbolic'\n",
    "            self.rv = stats.rv_discrete(name = name, values = (np.arange(len(values)), probability_distribution))\n",
    "            self.symbolic_values = values \n",
    "        else: \n",
    "            self.type = 'undefined'\n",
    "    \n",
    "    def sample(self,size): \n",
    "        if (self.type =='numeric'): \n",
    "            return self.rv.rvs(size=size)\n",
    "        elif (self.type == 'symbolic'): \n",
    "            numeric_samples = self.rv.rvs(size=size)\n",
    "            mapped_samples = [self.values[x] for x in numeric_samples]\n",
    "            return mapped_samples \n",
    "            \n",
    "        "
   ]
  },
  {
   "cell_type": "code",
   "execution_count": 14,
   "metadata": {},
   "outputs": [
    {
     "data": {
      "text/plain": [
       "[('yes', 'country'),\n",
       " ('yes', 'country'),\n",
       " ('no', 'country'),\n",
       " ('yes', 'country'),\n",
       " ('yes', 'country'),\n",
       " ('yes', 'country'),\n",
       " ('no', 'jazz'),\n",
       " ('yes', 'jazz'),\n",
       " ('yes', 'country'),\n",
       " ('yes', 'country'),\n",
       " ('yes', 'country'),\n",
       " ('yes', 'country'),\n",
       " ('no', 'country'),\n",
       " ('no', 'jazz'),\n",
       " ('yes', 'country'),\n",
       " ('yes', 'country'),\n",
       " ('no', 'country'),\n",
       " ('yes', 'country'),\n",
       " ('yes', 'country'),\n",
       " ('no', 'country'),\n",
       " ('yes', 'country'),\n",
       " ('yes', 'country'),\n",
       " ('no', 'jazz'),\n",
       " ('yes', 'country'),\n",
       " ('yes', 'country'),\n",
       " ('no', 'jazz'),\n",
       " ('yes', 'country'),\n",
       " ('yes', 'country'),\n",
       " ('yes', 'country'),\n",
       " ('yes', 'country'),\n",
       " ('yes', 'country'),\n",
       " ('yes', 'country'),\n",
       " ('no', 'jazz'),\n",
       " ('yes', 'country'),\n",
       " ('yes', 'country'),\n",
       " ('yes', 'country'),\n",
       " ('yes', 'country'),\n",
       " ('no', 'jazz'),\n",
       " ('no', 'jazz'),\n",
       " ('yes', 'country'),\n",
       " ('no', 'country'),\n",
       " ('yes', 'country'),\n",
       " ('yes', 'jazz'),\n",
       " ('yes', 'country'),\n",
       " ('yes', 'country'),\n",
       " ('yes', 'country'),\n",
       " ('no', 'country'),\n",
       " ('yes', 'country'),\n",
       " ('no', 'jazz'),\n",
       " ('no', 'jazz'),\n",
       " ('yes', 'country'),\n",
       " ('yes', 'country'),\n",
       " ('yes', 'country'),\n",
       " ('yes', 'country'),\n",
       " ('yes', 'country'),\n",
       " ('yes', 'country'),\n",
       " ('yes', 'country'),\n",
       " ('yes', 'country'),\n",
       " ('no', 'country'),\n",
       " ('no', 'jazz'),\n",
       " ('yes', 'country'),\n",
       " ('yes', 'jazz'),\n",
       " ('no', 'jazz'),\n",
       " ('yes', 'country'),\n",
       " ('yes', 'country'),\n",
       " ('no', 'country'),\n",
       " ('yes', 'country'),\n",
       " ('yes', 'country'),\n",
       " ('yes', 'country'),\n",
       " ('no', 'jazz'),\n",
       " ('no', 'jazz'),\n",
       " ('no', 'jazz'),\n",
       " ('yes', 'country'),\n",
       " ('no', 'jazz'),\n",
       " ('yes', 'country'),\n",
       " ('no', 'jazz'),\n",
       " ('no', 'jazz'),\n",
       " ('no', 'jazz'),\n",
       " ('no', 'jazz'),\n",
       " ('yes', 'country'),\n",
       " ('yes', 'country'),\n",
       " ('no', 'country'),\n",
       " ('no', 'country'),\n",
       " ('yes', 'country'),\n",
       " ('no', 'jazz'),\n",
       " ('no', 'jazz'),\n",
       " ('yes', 'country'),\n",
       " ('yes', 'country'),\n",
       " ('no', 'jazz'),\n",
       " ('no', 'country'),\n",
       " ('no', 'country'),\n",
       " ('no', 'jazz'),\n",
       " ('no', 'jazz'),\n",
       " ('no', 'jazz'),\n",
       " ('yes', 'country'),\n",
       " ('no', 'jazz'),\n",
       " ('yes', 'country'),\n",
       " ('no', 'jazz'),\n",
       " ('no', 'jazz'),\n",
       " ('yes', 'country')]"
      ]
     },
     "execution_count": 14,
     "metadata": {},
     "output_type": "execute_result"
    }
   ],
   "source": [
    "# samples to generate \n",
    "num_samples = 100\n",
    "\n",
    "## Prior probabilities of a song being jazz or country \n",
    "values = ['country', 'jazz']\n",
    "probs = [0.7, 0.3]\n",
    "genre = Random_Variable('genre',values, probs)\n",
    "\n",
    "# conditional probabilities of a song having lyrics or not given the genre \n",
    "values = ['no', 'yes']\n",
    "probs = [0.9, 0.1] \n",
    "lyrics_if_jazz = Random_Variable('lyrics_if_jazz', values, probs)\n",
    "\n",
    "values = ['no', 'yes']\n",
    "probs = [0.2, 0.8]\n",
    "lyrics_if_country = Random_Variable('lyrics_if_country', values, probs)\n",
    "\n",
    "# generating proces first sample prior and then based on outcome \n",
    "# choose which conditional probability distribution to use \n",
    "\n",
    "random_lyrics_samples = [] \n",
    "for n in range(num_samples): \n",
    "    random_genre_sample = genre.sample(1)[0]\n",
    "    if (random_genre_sample == 'jazz'): \n",
    "        random_lyrics_sample = (lyrics_if_jazz.sample(1)[0], 'jazz')\n",
    "    else: \n",
    "        random_lyrics_sample = (lyrics_if_country.sample(1)[0], 'country')\n",
    "    random_lyrics_samples.append(random_lyrics_sample)\n",
    "\n",
    "random_lyrics_samples\n",
    "        \n"
   ]
  },
  {
   "cell_type": "code",
   "execution_count": 15,
   "metadata": {},
   "outputs": [
    {
     "name": "stdout",
     "output_type": "stream",
     "text": [
      "0.9032258064516129 0.0967741935483871\n"
     ]
    }
   ],
   "source": [
    "# Let's now estimate the conditional probabilities using the generated samples \n",
    "\n",
    "# First only consider jazz \n",
    "jazz_samples = [x for x in random_lyrics_samples if x[1] == 'jazz']\n",
    "\n",
    "# estimate the probability of an event specified \n",
    "# as a predicated over the possible outcomes \n",
    "def estimate_event_probability(f, samples): \n",
    "    return len(list(filter(f, samples))) / len(samples)\n",
    "\n",
    "est_no = len([x for x in jazz_samples if x[0] == 'no']) / len(jazz_samples)\n",
    "est_yes = len([x for x in jazz_samples if x[0] == 'yes']) / len(jazz_samples)\n",
    "print(est_no, est_yes)"
   ]
  }
 ],
 "metadata": {
  "kernelspec": {
   "display_name": "Python 3",
   "language": "python",
   "name": "python3"
  },
  "language_info": {
   "codemirror_mode": {
    "name": "ipython",
    "version": 3
   },
   "file_extension": ".py",
   "mimetype": "text/x-python",
   "name": "python",
   "nbconvert_exporter": "python",
   "pygments_lexer": "ipython3",
   "version": "3.7.7"
  }
 },
 "nbformat": 4,
 "nbformat_minor": 2
}
